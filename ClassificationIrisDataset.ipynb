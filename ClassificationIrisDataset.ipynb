{
  "nbformat": 4,
  "nbformat_minor": 0,
  "metadata": {
    "colab": {
      "provenance": [],
      "mount_file_id": "1IqUoKs_hOVaUjndg6kOXOl5unRjDcloI",
      "authorship_tag": "ABX9TyMv9L+dpbteCj4XLCTK5LdN",
      "include_colab_link": true
    },
    "kernelspec": {
      "name": "python3",
      "display_name": "Python 3"
    },
    "language_info": {
      "name": "python"
    }
  },
  "cells": [
    {
      "cell_type": "markdown",
      "metadata": {
        "id": "view-in-github",
        "colab_type": "text"
      },
      "source": [
        "<a href=\"https://colab.research.google.com/github/MatheusMDi/Classification-Iris-Dataset/blob/main/ClassificationIrisDataset.ipynb\" target=\"_parent\"><img src=\"https://colab.research.google.com/assets/colab-badge.svg\" alt=\"Open In Colab\"/></a>"
      ]
    },
    {
      "cell_type": "code",
      "execution_count": 15,
      "metadata": {
        "colab": {
          "base_uri": "https://localhost:8080/"
        },
        "id": "Ubgi2BHiGlVT",
        "outputId": "ece0b035-135a-4689-c81a-d284f5020e4e"
      },
      "outputs": [
        {
          "name": "stdout",
          "output_type": "stream",
          "text": [
            " 1-Entrar com Medidas da Planta /// 2-Sair \n",
            "Escolha uma opção:2\n"
          ]
        }
      ],
      "source": [
        "import pandas as pd\n",
        "from sklearn.tree import DecisionTreeClassifier\n",
        "\n",
        "iris = pd.read_csv(\"https://archive.ics.uci.edu/ml/machine-learning-databases/iris/iris.data\")\n",
        "iris.columns = ['sepal_length', 'sepal_width', 'petal_length', 'petal_width', 'class']\n",
        "\n",
        "X = iris.values[:, :-1]\n",
        "y = iris.values[:, -1]\n",
        "\n",
        "model = DecisionTreeClassifier()\n",
        "model.fit(X, y)\n",
        "\n",
        "def predict_species(sepal_length, sepal_width, petal_length, petal_width):\n",
        "    species = model.predict([[sepal_length, sepal_width, petal_length, petal_width]])\n",
        "    species_map = {\n",
        "        'Iris-setosa': 0,\n",
        "        'Iris-versicolor': 1,\n",
        "        'Iris-virginica': 2\n",
        "    }\n",
        "    species_id = species_map[species[0]]\n",
        "    return species[0], species_id\n",
        "\n",
        "while True:\n",
        "    print(\" 1-Entrar com Medidas da Planta /// 2-Sair \")\n",
        "    choice = input(\"Escolha uma opção:\")\n",
        "\n",
        "    if choice == '1':\n",
        "        sepal_length = float(input(\"Entre com o comprimento da sépala: \"))\n",
        "        sepal_width = float(input(\"Entre com a largura da sépala: \"))\n",
        "        petal_length = float(input(\"Entre com o comprimento da pétala: \"))\n",
        "        petal_width = float(input(\"Entre com a largura da pétala: \"))\n",
        "\n",
        "        species, species_id = predict_species(sepal_length, sepal_width, petal_length, petal_width)\n",
        "\n",
        "        print(\"Espécie prevista:\", species)\n",
        "        print(\"ID da espécie:\", species_id)\n",
        "    elif choice == '2': \n",
        "        break\n",
        "    else:\n",
        "        print(\"Opção inválida, escolha novamente.\")"
      ]
    }
  ]
}